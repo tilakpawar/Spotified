{
 "cells": [
  {
   "cell_type": "markdown",
   "id": "f610bee0",
   "metadata": {
    "ExecuteTime": {
     "end_time": "2023-08-14T09:32:52.111553Z",
     "start_time": "2023-08-14T09:32:52.069958Z"
    }
   },
   "source": [
    "## <b> <br> <p style=\"color: #810000\"> This is a notebook to help you customize Spotify's recommendation algorithm to help make better playlists for your individual music taste...<b><p>   \n",
    "<img src=\"Tilak Pawar_Arc.png\" width=\"250\" alt=\"Alternative text\" />\n"
   ]
  },
  {
   "cell_type": "markdown",
   "id": "c34d6a8d",
   "metadata": {},
   "source": [
    "### <br><p style=\"color: #a41b1b\"> Firstly, we will import spotipy and other necessary packages to play with the spotify api <p>"
   ]
  },
  {
   "cell_type": "code",
   "execution_count": 5,
   "id": "7e9493dc",
   "metadata": {
    "ExecuteTime": {
     "end_time": "2023-08-14T09:59:49.396206Z",
     "start_time": "2023-08-14T09:59:49.393043Z"
    }
   },
   "outputs": [],
   "source": [
    "import spotipy\n",
    "from spotipy.oauth2 import SpotifyClientCredentials"
   ]
  },
  {
   "cell_type": "markdown",
   "id": "26c63933",
   "metadata": {},
   "source": [
    "### <br> <p style=\"color: #a41b1b\"> Enter your spotify credentials... (Link to website explaining this...) <p>"
   ]
  },
  {
   "cell_type": "code",
   "execution_count": 6,
   "id": "ca923d7e",
   "metadata": {
    "ExecuteTime": {
     "end_time": "2023-08-14T09:59:50.340377Z",
     "start_time": "2023-08-14T09:59:50.337418Z"
    }
   },
   "outputs": [],
   "source": [
    "CLIENT_ID = 'Your_Client_ID'\n",
    "CLIENT_SECRET = 'Your_Client_Secret'"
   ]
  },
  {
   "cell_type": "markdown",
   "id": "ee9ab7a2",
   "metadata": {},
   "source": [
    "### <br> <p style=\"color: #a41b1b\"> Initialize the spotify client... <p>"
   ]
  },
  {
   "cell_type": "code",
   "execution_count": 7,
   "id": "ee31cb74",
   "metadata": {
    "ExecuteTime": {
     "end_time": "2023-08-14T09:59:50.878191Z",
     "start_time": "2023-08-14T09:59:50.873696Z"
    }
   },
   "outputs": [],
   "source": [
    "# Initialize the Spotify client\n",
    "auth_manager = SpotifyClientCredentials(client_id=CLIENT_ID, client_secret=CLIENT_SECRET)\n",
    "sp = spotipy.Spotify(auth_manager=auth_manager)"
   ]
  },
  {
   "cell_type": "markdown",
   "id": "6aaeb12c",
   "metadata": {},
   "source": [
    "### <br> <p style=\"color: #a41b1b\"> Defining seed tracks, artists, and genres... <p> <p style=\"color: #1B1717\">This can be an additional task since the spotify client requires the track URIs to work with. This needs to be fetched since the users, us, know the track names and the artist names and not the uris.<br> This block will help you create an array of spotify URIs from a list of tracks names. The more specific you are, the better...<p>"
   ]
  },
  {
   "cell_type": "code",
   "execution_count": 34,
   "id": "3971b169",
   "metadata": {
    "ExecuteTime": {
     "end_time": "2023-08-14T10:20:37.004021Z",
     "start_time": "2023-08-14T10:20:36.227847Z"
    }
   },
   "outputs": [],
   "source": [
    "# Fetch for the song uris\n",
    "\n",
    "#Enter upto 5 songs and their artist names...\n",
    "#It helps if they are from similar genre and you want recommendations from that specific genre...\n",
    "#The position of song in 'songs' array (i) must match the position of artist in 'artists' array (j)\n",
    "songs = ['Adhir mann zale', 'Boonda Baandi', 'Sar Sukhachi Shravani', 'adheera mana', 'swapna chalun aale']\n",
    "artists = ['Ajay-Atul', 'Meghdeep Bose', 'Bela shende', 'aanandi joshi', 'sonu nigam']\n",
    "uris = []\n",
    "\n",
    "for i in range(len(songs)):\n",
    "    search_query = f'{songs[i]} {artists[i]}'\n",
    "    results = sp.search(q=search_query, type='track', limit=1)\n",
    "    track_uri = results['tracks']['items'][0]['uri']\n",
    "    uris.append(track_uri)\n",
    "    #print(f\"Track URI: {track_uri}\")"
   ]
  },
  {
   "cell_type": "markdown",
   "id": "39889715",
   "metadata": {
    "ExecuteTime": {
     "end_time": "2023-08-14T10:10:32.514889Z",
     "start_time": "2023-08-14T10:10:32.508998Z"
    }
   },
   "source": [
    "### <br> <p style=\"color: #a41b1b\"> Time to get some great recommendations ;) ... <p>"
   ]
  },
  {
   "cell_type": "code",
   "execution_count": 40,
   "id": "23735f75",
   "metadata": {
    "ExecuteTime": {
     "end_time": "2023-08-14T10:30:12.476667Z",
     "start_time": "2023-08-14T10:30:12.145333Z"
    }
   },
   "outputs": [
    {
     "name": "stdout",
     "output_type": "stream",
     "text": [
      "Recommended Tracks:\n",
      "Track: Neendrani\n",
      "Artists: Sanket Puranik, Aanandi Joshi\n",
      "Album: Neendrani\n",
      "Release Date: 2023-07-28\n",
      "\n",
      "Track: Tuzya Vina\n",
      "Artists: Shrinidhi Ghatate, Hrishi Kiran, Prem Kotwal\n",
      "Album: Tuzya Vina\n",
      "Release Date: 2020-01-01\n",
      "\n",
      "Track: Aazmale Aazmale - Lofi\n",
      "Artists: Sachin Gupta, Shekhar Ravjiani\n",
      "Album: Sad Lofi To Cry\n",
      "Release Date: 2023-01-27\n",
      "\n",
      "Track: Sajiri Gojiri\n",
      "Artists: Sahil Kulkarni, Rupali Moghe\n",
      "Album: Tujha Tu Majha Mi (Original Motion Picture Soundtrack)\n",
      "Release Date: 2017\n",
      "\n",
      "Track: Chandravedi Nabhi Ekti Mi\n",
      "Artists: Radhika Nanday, Mandar Apte, Anand Sahastrabudhe\n",
      "Album: Chandravedi Nabhi Ekti Mi\n",
      "Release Date: 2022-02-23\n",
      "\n",
      "Track: Girlfriend Nastana\n",
      "Artists: Prashant Nakti, Sonali Sonawane\n",
      "Album: Dance With Prashant Nakti\n",
      "Release Date: 2023-01-12\n",
      "\n",
      "Track: Nannavale Nannavale - From \"Inspector Vikram\"\n",
      "Artists: Sonu Nigam, J. Anoop Seelin\n",
      "Album: Nannavale Nannavale (From \"Inspector Vikram\")\n",
      "Release Date: 2019-12-30\n",
      "\n",
      "Track: Ye Go Ye Ye Maina - From \"Jatra\"\n",
      "Artists: Ajay\n",
      "Album: Ajay - Atul Hits\n",
      "Release Date: 2014-10-29\n",
      "\n",
      "Track: Ghar Yaad Aata Hai Mujhe\n",
      "Artists: Sona Mohapatra, Ram Sampath\n",
      "Album: Satyamev Jayate (Ghar Yaad Aata Hai Mujhe)\n",
      "Release Date: 2012-06-11\n",
      "\n",
      "Track: Raat Chandana\n",
      "Artists: Keval Walanj\n",
      "Album: Raat Chandana\n",
      "Release Date: 2018-12-07\n",
      "\n"
     ]
    }
   ],
   "source": [
    "# Get recommendations based on the seed track\n",
    "recommendations = sp.recommendations(seed_tracks=uris, limit=10)\n",
    "recom_uris=[]\n",
    "# Print recommended track information\n",
    "print(\"Recommended Tracks:\")\n",
    "for track in recommendations['tracks']:\n",
    "    recom_uris.append(track['uri'])\n",
    "    track_name = track['name']\n",
    "    artists = ', '.join([artist['name'] for artist in track['artists']])\n",
    "    album_name = track['album']['name']\n",
    "    release_date = track['album']['release_date']\n",
    "    print(f\"Track: {track_name}\\nArtists: {artists}\\nAlbum: {album_name}\\nRelease Date: {release_date}\\n\")"
   ]
  },
  {
   "cell_type": "markdown",
   "id": "7f856c2a",
   "metadata": {},
   "source": [
    "### <br> <p style=\"color: #a41b1b\"> Want to create a playlist from these recommendations? Here we go ... <p> <br> <p style=\"color: #a41b1b\"> WORK IN PROGRESS... &#8987; <p>"
   ]
  },
  {
   "cell_type": "code",
   "execution_count": null,
   "id": "5a6d42e7",
   "metadata": {},
   "outputs": [],
   "source": []
  }
 ],
 "metadata": {
  "kernelspec": {
   "display_name": "Python 3",
   "language": "python",
   "name": "python3"
  },
  "language_info": {
   "codemirror_mode": {
    "name": "ipython",
    "version": 3
   },
   "file_extension": ".py",
   "mimetype": "text/x-python",
   "name": "python",
   "nbconvert_exporter": "python",
   "pygments_lexer": "ipython3",
   "version": "3.9.16"
  }
 },
 "nbformat": 4,
 "nbformat_minor": 5
}
